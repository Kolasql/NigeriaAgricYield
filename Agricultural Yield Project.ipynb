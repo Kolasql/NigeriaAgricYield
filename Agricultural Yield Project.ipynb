{
 "cells": [
  {
   "cell_type": "markdown",
   "id": "3fec8951-9566-4340-9180-f1be5587f285",
   "metadata": {},
   "source": [
    "# Predicting Agricultural Yield Data in Nigeria"
   ]
  },
  {
   "cell_type": "raw",
   "id": "9353f1ea-c0e8-43bd-9957-8b88c9adc555",
   "metadata": {},
   "source": [
    "The project combines data from several sources including from the FAO.\n",
    "The dependent feature is the yield data in metric tonnes per hectare from the US agricultural website.\n",
    "The data spans from 1960 till 2024.\n",
    "Data contains 8 other features.\n",
    "A multiple linear regression was done to find patterns and make future predictions on the yield of the data.\n",
    "Dataset has also undergone several adjustments including but not limited to filling the missing values with the lower quartiles in some cases."
   ]
  },
  {
   "cell_type": "code",
   "execution_count": 1,
   "id": "a2312ffb-a8c8-46f1-8758-d24e7a1ccde0",
   "metadata": {},
   "outputs": [],
   "source": [
    "#import libraries\n",
    "import pandas as pd\n",
    "import numpy as np\n",
    "import matplotlib.pyplot as plt\n",
    "import seaborn as sns"
   ]
  },
  {
   "cell_type": "code",
   "execution_count": 2,
   "id": "e7d1ad41-b1f1-4a3c-850b-5076e966a2c4",
   "metadata": {},
   "outputs": [
    {
     "data": {
      "text/html": [
       "<div>\n",
       "<style scoped>\n",
       "    .dataframe tbody tr th:only-of-type {\n",
       "        vertical-align: middle;\n",
       "    }\n",
       "\n",
       "    .dataframe tbody tr th {\n",
       "        vertical-align: top;\n",
       "    }\n",
       "\n",
       "    .dataframe thead th {\n",
       "        text-align: right;\n",
       "    }\n",
       "</style>\n",
       "<table border=\"1\" class=\"dataframe\">\n",
       "  <thead>\n",
       "    <tr style=\"text-align: right;\">\n",
       "      <th></th>\n",
       "      <th>Year</th>\n",
       "      <th>Yield</th>\n",
       "      <th>Tractors</th>\n",
       "      <th>Pop_growth</th>\n",
       "      <th>Agric_land_percent</th>\n",
       "      <th>fertilizer_usage</th>\n",
       "      <th>gdp_percent</th>\n",
       "      <th>co2_emissions</th>\n",
       "      <th>methane_emissions</th>\n",
       "      <th>Female_employment</th>\n",
       "    </tr>\n",
       "  </thead>\n",
       "  <tbody>\n",
       "    <tr>\n",
       "      <th>0</th>\n",
       "      <td>1960</td>\n",
       "      <td>1.69</td>\n",
       "      <td>0.21</td>\n",
       "      <td>2.04</td>\n",
       "      <td>59.48</td>\n",
       "      <td>0.06</td>\n",
       "      <td>20.8</td>\n",
       "      <td>0.57</td>\n",
       "      <td>138377.52</td>\n",
       "      <td>44.34</td>\n",
       "    </tr>\n",
       "    <tr>\n",
       "      <th>1</th>\n",
       "      <td>1961</td>\n",
       "      <td>1.50</td>\n",
       "      <td>0.21</td>\n",
       "      <td>2.04</td>\n",
       "      <td>59.48</td>\n",
       "      <td>0.07</td>\n",
       "      <td>20.8</td>\n",
       "      <td>0.57</td>\n",
       "      <td>138377.52</td>\n",
       "      <td>44.34</td>\n",
       "    </tr>\n",
       "    <tr>\n",
       "      <th>2</th>\n",
       "      <td>1962</td>\n",
       "      <td>1.62</td>\n",
       "      <td>0.23</td>\n",
       "      <td>2.09</td>\n",
       "      <td>59.65</td>\n",
       "      <td>0.09</td>\n",
       "      <td>20.8</td>\n",
       "      <td>0.57</td>\n",
       "      <td>138377.52</td>\n",
       "      <td>44.34</td>\n",
       "    </tr>\n",
       "    <tr>\n",
       "      <th>3</th>\n",
       "      <td>1963</td>\n",
       "      <td>1.72</td>\n",
       "      <td>0.23</td>\n",
       "      <td>2.11</td>\n",
       "      <td>59.81</td>\n",
       "      <td>0.12</td>\n",
       "      <td>20.8</td>\n",
       "      <td>0.57</td>\n",
       "      <td>138377.52</td>\n",
       "      <td>44.34</td>\n",
       "    </tr>\n",
       "    <tr>\n",
       "      <th>4</th>\n",
       "      <td>1964</td>\n",
       "      <td>1.76</td>\n",
       "      <td>0.24</td>\n",
       "      <td>2.14</td>\n",
       "      <td>59.97</td>\n",
       "      <td>0.15</td>\n",
       "      <td>20.8</td>\n",
       "      <td>0.57</td>\n",
       "      <td>138377.52</td>\n",
       "      <td>44.34</td>\n",
       "    </tr>\n",
       "  </tbody>\n",
       "</table>\n",
       "</div>"
      ],
      "text/plain": [
       "   Year  Yield  Tractors  Pop_growth  Agric_land_percent  fertilizer_usage  \\\n",
       "0  1960   1.69      0.21        2.04               59.48              0.06   \n",
       "1  1961   1.50      0.21        2.04               59.48              0.07   \n",
       "2  1962   1.62      0.23        2.09               59.65              0.09   \n",
       "3  1963   1.72      0.23        2.11               59.81              0.12   \n",
       "4  1964   1.76      0.24        2.14               59.97              0.15   \n",
       "\n",
       "   gdp_percent  co2_emissions  methane_emissions  Female_employment  \n",
       "0         20.8           0.57          138377.52              44.34  \n",
       "1         20.8           0.57          138377.52              44.34  \n",
       "2         20.8           0.57          138377.52              44.34  \n",
       "3         20.8           0.57          138377.52              44.34  \n",
       "4         20.8           0.57          138377.52              44.34  "
      ]
     },
     "execution_count": 2,
     "metadata": {},
     "output_type": "execute_result"
    }
   ],
   "source": [
    "#import dataset\n",
    "df = pd.read_csv(\"agric_data.csv\")\n",
    "df.head()"
   ]
  },
  {
   "cell_type": "code",
   "execution_count": 3,
   "id": "d2d70d8c-ca32-4666-aaa6-39d674159997",
   "metadata": {},
   "outputs": [
    {
     "data": {
      "text/html": [
       "<div>\n",
       "<style scoped>\n",
       "    .dataframe tbody tr th:only-of-type {\n",
       "        vertical-align: middle;\n",
       "    }\n",
       "\n",
       "    .dataframe tbody tr th {\n",
       "        vertical-align: top;\n",
       "    }\n",
       "\n",
       "    .dataframe thead th {\n",
       "        text-align: right;\n",
       "    }\n",
       "</style>\n",
       "<table border=\"1\" class=\"dataframe\">\n",
       "  <thead>\n",
       "    <tr style=\"text-align: right;\">\n",
       "      <th></th>\n",
       "      <th>Year</th>\n",
       "      <th>Yield</th>\n",
       "      <th>Tractors</th>\n",
       "      <th>Pop_growth</th>\n",
       "      <th>Agric_land_percent</th>\n",
       "      <th>fertilizer_usage</th>\n",
       "      <th>gdp_percent</th>\n",
       "      <th>co2_emissions</th>\n",
       "      <th>methane_emissions</th>\n",
       "      <th>Female_employment</th>\n",
       "    </tr>\n",
       "  </thead>\n",
       "  <tbody>\n",
       "    <tr>\n",
       "      <th>Year</th>\n",
       "      <td>1.000000</td>\n",
       "      <td>0.825690</td>\n",
       "      <td>0.717244</td>\n",
       "      <td>0.364028</td>\n",
       "      <td>0.906361</td>\n",
       "      <td>0.639280</td>\n",
       "      <td>0.370048</td>\n",
       "      <td>0.209109</td>\n",
       "      <td>0.311827</td>\n",
       "      <td>-0.755997</td>\n",
       "    </tr>\n",
       "    <tr>\n",
       "      <th>Yield</th>\n",
       "      <td>0.825690</td>\n",
       "      <td>1.000000</td>\n",
       "      <td>0.637786</td>\n",
       "      <td>0.212225</td>\n",
       "      <td>0.825438</td>\n",
       "      <td>0.424563</td>\n",
       "      <td>0.602738</td>\n",
       "      <td>0.395769</td>\n",
       "      <td>0.275596</td>\n",
       "      <td>-0.513016</td>\n",
       "    </tr>\n",
       "    <tr>\n",
       "      <th>Tractors</th>\n",
       "      <td>0.717244</td>\n",
       "      <td>0.637786</td>\n",
       "      <td>1.000000</td>\n",
       "      <td>0.666490</td>\n",
       "      <td>0.667238</td>\n",
       "      <td>0.586148</td>\n",
       "      <td>0.325129</td>\n",
       "      <td>0.465140</td>\n",
       "      <td>0.165710</td>\n",
       "      <td>-0.231701</td>\n",
       "    </tr>\n",
       "    <tr>\n",
       "      <th>Pop_growth</th>\n",
       "      <td>0.364028</td>\n",
       "      <td>0.212225</td>\n",
       "      <td>0.666490</td>\n",
       "      <td>1.000000</td>\n",
       "      <td>0.320478</td>\n",
       "      <td>0.356876</td>\n",
       "      <td>0.039507</td>\n",
       "      <td>0.072853</td>\n",
       "      <td>-0.030690</td>\n",
       "      <td>-0.113175</td>\n",
       "    </tr>\n",
       "    <tr>\n",
       "      <th>Agric_land_percent</th>\n",
       "      <td>0.906361</td>\n",
       "      <td>0.825438</td>\n",
       "      <td>0.667238</td>\n",
       "      <td>0.320478</td>\n",
       "      <td>1.000000</td>\n",
       "      <td>0.537764</td>\n",
       "      <td>0.508898</td>\n",
       "      <td>0.292680</td>\n",
       "      <td>0.294812</td>\n",
       "      <td>-0.732412</td>\n",
       "    </tr>\n",
       "    <tr>\n",
       "      <th>fertilizer_usage</th>\n",
       "      <td>0.639280</td>\n",
       "      <td>0.424563</td>\n",
       "      <td>0.586148</td>\n",
       "      <td>0.356876</td>\n",
       "      <td>0.537764</td>\n",
       "      <td>1.000000</td>\n",
       "      <td>-0.056250</td>\n",
       "      <td>0.096449</td>\n",
       "      <td>0.417576</td>\n",
       "      <td>-0.488691</td>\n",
       "    </tr>\n",
       "    <tr>\n",
       "      <th>gdp_percent</th>\n",
       "      <td>0.370048</td>\n",
       "      <td>0.602738</td>\n",
       "      <td>0.325129</td>\n",
       "      <td>0.039507</td>\n",
       "      <td>0.508898</td>\n",
       "      <td>-0.056250</td>\n",
       "      <td>1.000000</td>\n",
       "      <td>0.430629</td>\n",
       "      <td>-0.062191</td>\n",
       "      <td>-0.099935</td>\n",
       "    </tr>\n",
       "    <tr>\n",
       "      <th>co2_emissions</th>\n",
       "      <td>0.209109</td>\n",
       "      <td>0.395769</td>\n",
       "      <td>0.465140</td>\n",
       "      <td>0.072853</td>\n",
       "      <td>0.292680</td>\n",
       "      <td>0.096449</td>\n",
       "      <td>0.430629</td>\n",
       "      <td>1.000000</td>\n",
       "      <td>0.352415</td>\n",
       "      <td>0.275600</td>\n",
       "    </tr>\n",
       "    <tr>\n",
       "      <th>methane_emissions</th>\n",
       "      <td>0.311827</td>\n",
       "      <td>0.275596</td>\n",
       "      <td>0.165710</td>\n",
       "      <td>-0.030690</td>\n",
       "      <td>0.294812</td>\n",
       "      <td>0.417576</td>\n",
       "      <td>-0.062191</td>\n",
       "      <td>0.352415</td>\n",
       "      <td>1.000000</td>\n",
       "      <td>-0.227904</td>\n",
       "    </tr>\n",
       "    <tr>\n",
       "      <th>Female_employment</th>\n",
       "      <td>-0.755997</td>\n",
       "      <td>-0.513016</td>\n",
       "      <td>-0.231701</td>\n",
       "      <td>-0.113175</td>\n",
       "      <td>-0.732412</td>\n",
       "      <td>-0.488691</td>\n",
       "      <td>-0.099935</td>\n",
       "      <td>0.275600</td>\n",
       "      <td>-0.227904</td>\n",
       "      <td>1.000000</td>\n",
       "    </tr>\n",
       "  </tbody>\n",
       "</table>\n",
       "</div>"
      ],
      "text/plain": [
       "                        Year     Yield  Tractors  Pop_growth  \\\n",
       "Year                1.000000  0.825690  0.717244    0.364028   \n",
       "Yield               0.825690  1.000000  0.637786    0.212225   \n",
       "Tractors            0.717244  0.637786  1.000000    0.666490   \n",
       "Pop_growth          0.364028  0.212225  0.666490    1.000000   \n",
       "Agric_land_percent  0.906361  0.825438  0.667238    0.320478   \n",
       "fertilizer_usage    0.639280  0.424563  0.586148    0.356876   \n",
       "gdp_percent         0.370048  0.602738  0.325129    0.039507   \n",
       "co2_emissions       0.209109  0.395769  0.465140    0.072853   \n",
       "methane_emissions   0.311827  0.275596  0.165710   -0.030690   \n",
       "Female_employment  -0.755997 -0.513016 -0.231701   -0.113175   \n",
       "\n",
       "                    Agric_land_percent  fertilizer_usage  gdp_percent  \\\n",
       "Year                          0.906361          0.639280     0.370048   \n",
       "Yield                         0.825438          0.424563     0.602738   \n",
       "Tractors                      0.667238          0.586148     0.325129   \n",
       "Pop_growth                    0.320478          0.356876     0.039507   \n",
       "Agric_land_percent            1.000000          0.537764     0.508898   \n",
       "fertilizer_usage              0.537764          1.000000    -0.056250   \n",
       "gdp_percent                   0.508898         -0.056250     1.000000   \n",
       "co2_emissions                 0.292680          0.096449     0.430629   \n",
       "methane_emissions             0.294812          0.417576    -0.062191   \n",
       "Female_employment            -0.732412         -0.488691    -0.099935   \n",
       "\n",
       "                    co2_emissions  methane_emissions  Female_employment  \n",
       "Year                     0.209109           0.311827          -0.755997  \n",
       "Yield                    0.395769           0.275596          -0.513016  \n",
       "Tractors                 0.465140           0.165710          -0.231701  \n",
       "Pop_growth               0.072853          -0.030690          -0.113175  \n",
       "Agric_land_percent       0.292680           0.294812          -0.732412  \n",
       "fertilizer_usage         0.096449           0.417576          -0.488691  \n",
       "gdp_percent              0.430629          -0.062191          -0.099935  \n",
       "co2_emissions            1.000000           0.352415           0.275600  \n",
       "methane_emissions        0.352415           1.000000          -0.227904  \n",
       "Female_employment        0.275600          -0.227904           1.000000  "
      ]
     },
     "execution_count": 3,
     "metadata": {},
     "output_type": "execute_result"
    }
   ],
   "source": [
    "#check for correlation\n",
    "df.corr()"
   ]
  },
  {
   "cell_type": "code",
   "execution_count": 4,
   "id": "b49b87de-787d-4114-abbc-6efe8d9652e8",
   "metadata": {},
   "outputs": [
    {
     "name": "stdout",
     "output_type": "stream",
     "text": [
      "Yield                 1.000000\n",
      "Year                  0.825690\n",
      "Agric_land_percent    0.825438\n",
      "Tractors              0.637786\n",
      "gdp_percent           0.602738\n",
      "fertilizer_usage      0.424563\n",
      "co2_emissions         0.395769\n",
      "methane_emissions     0.275596\n",
      "Pop_growth            0.212225\n",
      "Female_employment    -0.513016\n",
      "Name: Yield, dtype: float64\n"
     ]
    }
   ],
   "source": [
    "#Print the correlation matrix for the target variable\n",
    "correlation_matrix = df.corr()\n",
    "correlation_with_target = correlation_matrix[\"Yield\"].sort_values(ascending=False)\n",
    "print(correlation_with_target)"
   ]
  },
  {
   "cell_type": "code",
   "execution_count": 5,
   "id": "a7dc2f4d-41c9-4698-bc63-2c1d00504d02",
   "metadata": {},
   "outputs": [
    {
     "name": "stdout",
     "output_type": "stream",
     "text": [
      "<class 'pandas.core.frame.DataFrame'>\n",
      "RangeIndex: 65 entries, 0 to 64\n",
      "Data columns (total 10 columns):\n",
      " #   Column              Non-Null Count  Dtype  \n",
      "---  ------              --------------  -----  \n",
      " 0   Year                65 non-null     object \n",
      " 1   Yield               65 non-null     float64\n",
      " 2   Tractors            65 non-null     float64\n",
      " 3   Pop_growth          65 non-null     float64\n",
      " 4   Agric_land_percent  65 non-null     float64\n",
      " 5   fertilizer_usage    65 non-null     float64\n",
      " 6   gdp_percent         65 non-null     float64\n",
      " 7   co2_emissions       65 non-null     float64\n",
      " 8   methane_emissions   65 non-null     float64\n",
      " 9   Female_employment   65 non-null     float64\n",
      "dtypes: float64(9), object(1)\n",
      "memory usage: 5.2+ KB\n"
     ]
    }
   ],
   "source": [
    "#convert the year column to a string data type\n",
    "df[\"Year\"] = df[\"Year\"].astype(\"str\")\n",
    "df.info()"
   ]
  },
  {
   "cell_type": "code",
   "execution_count": 6,
   "id": "c64d3199-b4b3-4d99-9d7d-39f7442ed035",
   "metadata": {},
   "outputs": [],
   "source": [
    "# split the data into features and target\n",
    "X = df.drop(columns=[\"Yield\"])  # Features\n",
    "y = df[\"Yield\"]  # Target variable"
   ]
  },
  {
   "cell_type": "code",
   "execution_count": 7,
   "id": "3b433cfd-a564-4c05-bfd9-31cf0caea827",
   "metadata": {},
   "outputs": [],
   "source": [
    "#split data into train and test\n",
    "from sklearn.model_selection import train_test_split\n",
    "X_train, X_test, y_train, y_test = train_test_split(X, y, test_size=0.2, random_state=42)"
   ]
  },
  {
   "cell_type": "code",
   "execution_count": 8,
   "id": "4b32a95e-9c15-4590-a9de-872a291d32c4",
   "metadata": {},
   "outputs": [],
   "source": [
    "# standardise the columns\n",
    "from sklearn.preprocessing import StandardScaler\n",
    "scaler = StandardScaler()\n",
    "X_train_scaled = scaler.fit_transform(X_train)  # Apply scaling to all numeric columns\n",
    "X_test_scaled = scaler.transform(X_test)"
   ]
  },
  {
   "cell_type": "code",
   "execution_count": 9,
   "id": "775a6f5d-9bba-4832-9094-98bf5f6653d6",
   "metadata": {},
   "outputs": [
    {
     "data": {
      "text/html": [
       "<style>#sk-container-id-1 {color: black;background-color: white;}#sk-container-id-1 pre{padding: 0;}#sk-container-id-1 div.sk-toggleable {background-color: white;}#sk-container-id-1 label.sk-toggleable__label {cursor: pointer;display: block;width: 100%;margin-bottom: 0;padding: 0.3em;box-sizing: border-box;text-align: center;}#sk-container-id-1 label.sk-toggleable__label-arrow:before {content: \"▸\";float: left;margin-right: 0.25em;color: #696969;}#sk-container-id-1 label.sk-toggleable__label-arrow:hover:before {color: black;}#sk-container-id-1 div.sk-estimator:hover label.sk-toggleable__label-arrow:before {color: black;}#sk-container-id-1 div.sk-toggleable__content {max-height: 0;max-width: 0;overflow: hidden;text-align: left;background-color: #f0f8ff;}#sk-container-id-1 div.sk-toggleable__content pre {margin: 0.2em;color: black;border-radius: 0.25em;background-color: #f0f8ff;}#sk-container-id-1 input.sk-toggleable__control:checked~div.sk-toggleable__content {max-height: 200px;max-width: 100%;overflow: auto;}#sk-container-id-1 input.sk-toggleable__control:checked~label.sk-toggleable__label-arrow:before {content: \"▾\";}#sk-container-id-1 div.sk-estimator input.sk-toggleable__control:checked~label.sk-toggleable__label {background-color: #d4ebff;}#sk-container-id-1 div.sk-label input.sk-toggleable__control:checked~label.sk-toggleable__label {background-color: #d4ebff;}#sk-container-id-1 input.sk-hidden--visually {border: 0;clip: rect(1px 1px 1px 1px);clip: rect(1px, 1px, 1px, 1px);height: 1px;margin: -1px;overflow: hidden;padding: 0;position: absolute;width: 1px;}#sk-container-id-1 div.sk-estimator {font-family: monospace;background-color: #f0f8ff;border: 1px dotted black;border-radius: 0.25em;box-sizing: border-box;margin-bottom: 0.5em;}#sk-container-id-1 div.sk-estimator:hover {background-color: #d4ebff;}#sk-container-id-1 div.sk-parallel-item::after {content: \"\";width: 100%;border-bottom: 1px solid gray;flex-grow: 1;}#sk-container-id-1 div.sk-label:hover label.sk-toggleable__label {background-color: #d4ebff;}#sk-container-id-1 div.sk-serial::before {content: \"\";position: absolute;border-left: 1px solid gray;box-sizing: border-box;top: 0;bottom: 0;left: 50%;z-index: 0;}#sk-container-id-1 div.sk-serial {display: flex;flex-direction: column;align-items: center;background-color: white;padding-right: 0.2em;padding-left: 0.2em;position: relative;}#sk-container-id-1 div.sk-item {position: relative;z-index: 1;}#sk-container-id-1 div.sk-parallel {display: flex;align-items: stretch;justify-content: center;background-color: white;position: relative;}#sk-container-id-1 div.sk-item::before, #sk-container-id-1 div.sk-parallel-item::before {content: \"\";position: absolute;border-left: 1px solid gray;box-sizing: border-box;top: 0;bottom: 0;left: 50%;z-index: -1;}#sk-container-id-1 div.sk-parallel-item {display: flex;flex-direction: column;z-index: 1;position: relative;background-color: white;}#sk-container-id-1 div.sk-parallel-item:first-child::after {align-self: flex-end;width: 50%;}#sk-container-id-1 div.sk-parallel-item:last-child::after {align-self: flex-start;width: 50%;}#sk-container-id-1 div.sk-parallel-item:only-child::after {width: 0;}#sk-container-id-1 div.sk-dashed-wrapped {border: 1px dashed gray;margin: 0 0.4em 0.5em 0.4em;box-sizing: border-box;padding-bottom: 0.4em;background-color: white;}#sk-container-id-1 div.sk-label label {font-family: monospace;font-weight: bold;display: inline-block;line-height: 1.2em;}#sk-container-id-1 div.sk-label-container {text-align: center;}#sk-container-id-1 div.sk-container {/* jupyter's `normalize.less` sets `[hidden] { display: none; }` but bootstrap.min.css set `[hidden] { display: none !important; }` so we also need the `!important` here to be able to override the default hidden behavior on the sphinx rendered scikit-learn.org. See: https://github.com/scikit-learn/scikit-learn/issues/21755 */display: inline-block !important;position: relative;}#sk-container-id-1 div.sk-text-repr-fallback {display: none;}</style><div id=\"sk-container-id-1\" class=\"sk-top-container\"><div class=\"sk-text-repr-fallback\"><pre>LinearRegression()</pre><b>In a Jupyter environment, please rerun this cell to show the HTML representation or trust the notebook. <br />On GitHub, the HTML representation is unable to render, please try loading this page with nbviewer.org.</b></div><div class=\"sk-container\" hidden><div class=\"sk-item\"><div class=\"sk-estimator sk-toggleable\"><input class=\"sk-toggleable__control sk-hidden--visually\" id=\"sk-estimator-id-1\" type=\"checkbox\" checked><label for=\"sk-estimator-id-1\" class=\"sk-toggleable__label sk-toggleable__label-arrow\">LinearRegression</label><div class=\"sk-toggleable__content\"><pre>LinearRegression()</pre></div></div></div></div></div>"
      ],
      "text/plain": [
       "LinearRegression()"
      ]
     },
     "execution_count": 9,
     "metadata": {},
     "output_type": "execute_result"
    }
   ],
   "source": [
    "#fit to a linear model\n",
    "from sklearn.linear_model import LinearRegression\n",
    "model = LinearRegression()\n",
    "model.fit(X_train_scaled, y_train)"
   ]
  },
  {
   "cell_type": "code",
   "execution_count": 10,
   "id": "6744204a-6f12-45cb-9b56-8dc068b66bd1",
   "metadata": {},
   "outputs": [
    {
     "name": "stdout",
     "output_type": "stream",
     "text": [
      "MSE: 0.1317110818309537, R²: 0.7746997116390124\n"
     ]
    }
   ],
   "source": [
    "# evaluate the model\n",
    "from sklearn.metrics import mean_squared_error, r2_score, mean_absolute_error\n",
    "y_pred = model.predict(X_test_scaled)\n",
    "mse = mean_squared_error(y_test, y_pred)\n",
    "r2 = r2_score(y_test, y_pred)\n",
    "print(f\"MSE: {mse}, R²: {r2}\")"
   ]
  },
  {
   "cell_type": "code",
   "execution_count": 11,
   "id": "6e079e00-ac08-40a7-b36c-e6791cc279f1",
   "metadata": {},
   "outputs": [
    {
     "data": {
      "text/html": [
       "<style>#sk-container-id-2 {color: black;background-color: white;}#sk-container-id-2 pre{padding: 0;}#sk-container-id-2 div.sk-toggleable {background-color: white;}#sk-container-id-2 label.sk-toggleable__label {cursor: pointer;display: block;width: 100%;margin-bottom: 0;padding: 0.3em;box-sizing: border-box;text-align: center;}#sk-container-id-2 label.sk-toggleable__label-arrow:before {content: \"▸\";float: left;margin-right: 0.25em;color: #696969;}#sk-container-id-2 label.sk-toggleable__label-arrow:hover:before {color: black;}#sk-container-id-2 div.sk-estimator:hover label.sk-toggleable__label-arrow:before {color: black;}#sk-container-id-2 div.sk-toggleable__content {max-height: 0;max-width: 0;overflow: hidden;text-align: left;background-color: #f0f8ff;}#sk-container-id-2 div.sk-toggleable__content pre {margin: 0.2em;color: black;border-radius: 0.25em;background-color: #f0f8ff;}#sk-container-id-2 input.sk-toggleable__control:checked~div.sk-toggleable__content {max-height: 200px;max-width: 100%;overflow: auto;}#sk-container-id-2 input.sk-toggleable__control:checked~label.sk-toggleable__label-arrow:before {content: \"▾\";}#sk-container-id-2 div.sk-estimator input.sk-toggleable__control:checked~label.sk-toggleable__label {background-color: #d4ebff;}#sk-container-id-2 div.sk-label input.sk-toggleable__control:checked~label.sk-toggleable__label {background-color: #d4ebff;}#sk-container-id-2 input.sk-hidden--visually {border: 0;clip: rect(1px 1px 1px 1px);clip: rect(1px, 1px, 1px, 1px);height: 1px;margin: -1px;overflow: hidden;padding: 0;position: absolute;width: 1px;}#sk-container-id-2 div.sk-estimator {font-family: monospace;background-color: #f0f8ff;border: 1px dotted black;border-radius: 0.25em;box-sizing: border-box;margin-bottom: 0.5em;}#sk-container-id-2 div.sk-estimator:hover {background-color: #d4ebff;}#sk-container-id-2 div.sk-parallel-item::after {content: \"\";width: 100%;border-bottom: 1px solid gray;flex-grow: 1;}#sk-container-id-2 div.sk-label:hover label.sk-toggleable__label {background-color: #d4ebff;}#sk-container-id-2 div.sk-serial::before {content: \"\";position: absolute;border-left: 1px solid gray;box-sizing: border-box;top: 0;bottom: 0;left: 50%;z-index: 0;}#sk-container-id-2 div.sk-serial {display: flex;flex-direction: column;align-items: center;background-color: white;padding-right: 0.2em;padding-left: 0.2em;position: relative;}#sk-container-id-2 div.sk-item {position: relative;z-index: 1;}#sk-container-id-2 div.sk-parallel {display: flex;align-items: stretch;justify-content: center;background-color: white;position: relative;}#sk-container-id-2 div.sk-item::before, #sk-container-id-2 div.sk-parallel-item::before {content: \"\";position: absolute;border-left: 1px solid gray;box-sizing: border-box;top: 0;bottom: 0;left: 50%;z-index: -1;}#sk-container-id-2 div.sk-parallel-item {display: flex;flex-direction: column;z-index: 1;position: relative;background-color: white;}#sk-container-id-2 div.sk-parallel-item:first-child::after {align-self: flex-end;width: 50%;}#sk-container-id-2 div.sk-parallel-item:last-child::after {align-self: flex-start;width: 50%;}#sk-container-id-2 div.sk-parallel-item:only-child::after {width: 0;}#sk-container-id-2 div.sk-dashed-wrapped {border: 1px dashed gray;margin: 0 0.4em 0.5em 0.4em;box-sizing: border-box;padding-bottom: 0.4em;background-color: white;}#sk-container-id-2 div.sk-label label {font-family: monospace;font-weight: bold;display: inline-block;line-height: 1.2em;}#sk-container-id-2 div.sk-label-container {text-align: center;}#sk-container-id-2 div.sk-container {/* jupyter's `normalize.less` sets `[hidden] { display: none; }` but bootstrap.min.css set `[hidden] { display: none !important; }` so we also need the `!important` here to be able to override the default hidden behavior on the sphinx rendered scikit-learn.org. See: https://github.com/scikit-learn/scikit-learn/issues/21755 */display: inline-block !important;position: relative;}#sk-container-id-2 div.sk-text-repr-fallback {display: none;}</style><div id=\"sk-container-id-2\" class=\"sk-top-container\"><div class=\"sk-text-repr-fallback\"><pre>RandomForestRegressor(random_state=42)</pre><b>In a Jupyter environment, please rerun this cell to show the HTML representation or trust the notebook. <br />On GitHub, the HTML representation is unable to render, please try loading this page with nbviewer.org.</b></div><div class=\"sk-container\" hidden><div class=\"sk-item\"><div class=\"sk-estimator sk-toggleable\"><input class=\"sk-toggleable__control sk-hidden--visually\" id=\"sk-estimator-id-2\" type=\"checkbox\" checked><label for=\"sk-estimator-id-2\" class=\"sk-toggleable__label sk-toggleable__label-arrow\">RandomForestRegressor</label><div class=\"sk-toggleable__content\"><pre>RandomForestRegressor(random_state=42)</pre></div></div></div></div></div>"
      ],
      "text/plain": [
       "RandomForestRegressor(random_state=42)"
      ]
     },
     "execution_count": 11,
     "metadata": {},
     "output_type": "execute_result"
    }
   ],
   "source": [
    "# fit to a randomforest regressor\n",
    "from sklearn.ensemble import RandomForestRegressor\n",
    "rf_model = RandomForestRegressor(random_state=42)\n",
    "rf_model.fit(X_train_scaled, y_train)"
   ]
  },
  {
   "cell_type": "code",
   "execution_count": 12,
   "id": "b138448d-01c7-48fe-82b2-65b685a68221",
   "metadata": {},
   "outputs": [
    {
     "name": "stdout",
     "output_type": "stream",
     "text": [
      "MSE: 0.10599762076923093, R²: 0.8186842428677559\n"
     ]
    }
   ],
   "source": [
    "# evaluate the rfr performance\n",
    "y_rf_pred = rf_model.predict(X_test_scaled)\n",
    "rf_mse = mean_squared_error(y_test, y_rf_pred)\n",
    "rf_r2 = r2_score(y_test, y_rf_pred)\n",
    "print(f\"MSE: {rf_mse}, R²: {rf_r2}\")"
   ]
  },
  {
   "cell_type": "code",
   "execution_count": 14,
   "id": "008afb10-5e8e-40f4-8b8f-a85638958398",
   "metadata": {},
   "outputs": [
    {
     "data": {
      "text/html": [
       "<style>#sk-container-id-3 {color: black;background-color: white;}#sk-container-id-3 pre{padding: 0;}#sk-container-id-3 div.sk-toggleable {background-color: white;}#sk-container-id-3 label.sk-toggleable__label {cursor: pointer;display: block;width: 100%;margin-bottom: 0;padding: 0.3em;box-sizing: border-box;text-align: center;}#sk-container-id-3 label.sk-toggleable__label-arrow:before {content: \"▸\";float: left;margin-right: 0.25em;color: #696969;}#sk-container-id-3 label.sk-toggleable__label-arrow:hover:before {color: black;}#sk-container-id-3 div.sk-estimator:hover label.sk-toggleable__label-arrow:before {color: black;}#sk-container-id-3 div.sk-toggleable__content {max-height: 0;max-width: 0;overflow: hidden;text-align: left;background-color: #f0f8ff;}#sk-container-id-3 div.sk-toggleable__content pre {margin: 0.2em;color: black;border-radius: 0.25em;background-color: #f0f8ff;}#sk-container-id-3 input.sk-toggleable__control:checked~div.sk-toggleable__content {max-height: 200px;max-width: 100%;overflow: auto;}#sk-container-id-3 input.sk-toggleable__control:checked~label.sk-toggleable__label-arrow:before {content: \"▾\";}#sk-container-id-3 div.sk-estimator input.sk-toggleable__control:checked~label.sk-toggleable__label {background-color: #d4ebff;}#sk-container-id-3 div.sk-label input.sk-toggleable__control:checked~label.sk-toggleable__label {background-color: #d4ebff;}#sk-container-id-3 input.sk-hidden--visually {border: 0;clip: rect(1px 1px 1px 1px);clip: rect(1px, 1px, 1px, 1px);height: 1px;margin: -1px;overflow: hidden;padding: 0;position: absolute;width: 1px;}#sk-container-id-3 div.sk-estimator {font-family: monospace;background-color: #f0f8ff;border: 1px dotted black;border-radius: 0.25em;box-sizing: border-box;margin-bottom: 0.5em;}#sk-container-id-3 div.sk-estimator:hover {background-color: #d4ebff;}#sk-container-id-3 div.sk-parallel-item::after {content: \"\";width: 100%;border-bottom: 1px solid gray;flex-grow: 1;}#sk-container-id-3 div.sk-label:hover label.sk-toggleable__label {background-color: #d4ebff;}#sk-container-id-3 div.sk-serial::before {content: \"\";position: absolute;border-left: 1px solid gray;box-sizing: border-box;top: 0;bottom: 0;left: 50%;z-index: 0;}#sk-container-id-3 div.sk-serial {display: flex;flex-direction: column;align-items: center;background-color: white;padding-right: 0.2em;padding-left: 0.2em;position: relative;}#sk-container-id-3 div.sk-item {position: relative;z-index: 1;}#sk-container-id-3 div.sk-parallel {display: flex;align-items: stretch;justify-content: center;background-color: white;position: relative;}#sk-container-id-3 div.sk-item::before, #sk-container-id-3 div.sk-parallel-item::before {content: \"\";position: absolute;border-left: 1px solid gray;box-sizing: border-box;top: 0;bottom: 0;left: 50%;z-index: -1;}#sk-container-id-3 div.sk-parallel-item {display: flex;flex-direction: column;z-index: 1;position: relative;background-color: white;}#sk-container-id-3 div.sk-parallel-item:first-child::after {align-self: flex-end;width: 50%;}#sk-container-id-3 div.sk-parallel-item:last-child::after {align-self: flex-start;width: 50%;}#sk-container-id-3 div.sk-parallel-item:only-child::after {width: 0;}#sk-container-id-3 div.sk-dashed-wrapped {border: 1px dashed gray;margin: 0 0.4em 0.5em 0.4em;box-sizing: border-box;padding-bottom: 0.4em;background-color: white;}#sk-container-id-3 div.sk-label label {font-family: monospace;font-weight: bold;display: inline-block;line-height: 1.2em;}#sk-container-id-3 div.sk-label-container {text-align: center;}#sk-container-id-3 div.sk-container {/* jupyter's `normalize.less` sets `[hidden] { display: none; }` but bootstrap.min.css set `[hidden] { display: none !important; }` so we also need the `!important` here to be able to override the default hidden behavior on the sphinx rendered scikit-learn.org. See: https://github.com/scikit-learn/scikit-learn/issues/21755 */display: inline-block !important;position: relative;}#sk-container-id-3 div.sk-text-repr-fallback {display: none;}</style><div id=\"sk-container-id-3\" class=\"sk-top-container\"><div class=\"sk-text-repr-fallback\"><pre>RandomForestRegressor(max_depth=20, n_estimators=200)</pre><b>In a Jupyter environment, please rerun this cell to show the HTML representation or trust the notebook. <br />On GitHub, the HTML representation is unable to render, please try loading this page with nbviewer.org.</b></div><div class=\"sk-container\" hidden><div class=\"sk-item\"><div class=\"sk-estimator sk-toggleable\"><input class=\"sk-toggleable__control sk-hidden--visually\" id=\"sk-estimator-id-3\" type=\"checkbox\" checked><label for=\"sk-estimator-id-3\" class=\"sk-toggleable__label sk-toggleable__label-arrow\">RandomForestRegressor</label><div class=\"sk-toggleable__content\"><pre>RandomForestRegressor(max_depth=20, n_estimators=200)</pre></div></div></div></div></div>"
      ],
      "text/plain": [
       "RandomForestRegressor(max_depth=20, n_estimators=200)"
      ]
     },
     "execution_count": 14,
     "metadata": {},
     "output_type": "execute_result"
    }
   ],
   "source": [
    "# gridsearch\n",
    "from sklearn.model_selection import GridSearchCV\n",
    "param_grid = {\"n_estimators\": [100, 200], \"max_depth\": [10, 20]}\n",
    "grid_search = GridSearchCV(RandomForestRegressor(), param_grid, cv=5, scoring=\"neg_mean_squared_error\")\n",
    "grid_search.fit(X_train_scaled, y_train)\n",
    "best_model = grid_search.best_estimator_\n",
    "best_model"
   ]
  },
  {
   "cell_type": "code",
   "execution_count": 15,
   "id": "0c08cb64-06f5-4888-a470-ab1eb6193b9a",
   "metadata": {},
   "outputs": [
    {
     "data": {
      "text/plain": [
       "[(0.44775952996651547, 'Agric_land_percent'),\n",
       " (0.3976708550703702, 'Year'),\n",
       " (0.04445846345250442, 'Tractors'),\n",
       " (0.03046063802451849, 'Pop_growth'),\n",
       " (0.0299146253548035, 'methane_emissions'),\n",
       " (0.023602124448158783, 'gdp_percent'),\n",
       " (0.009863706391642607, 'Female_employment'),\n",
       " (0.008961431385017232, 'co2_emissions'),\n",
       " (0.007308625906469359, 'fertilizer_usage')]"
      ]
     },
     "execution_count": 15,
     "metadata": {},
     "output_type": "execute_result"
    }
   ],
   "source": [
    "# evaluating the contribution of the features to the model\n",
    "importances = rf_model.feature_importances_\n",
    "sorted(zip(importances, X.columns), reverse=True)"
   ]
  },
  {
   "cell_type": "code",
   "execution_count": 16,
   "id": "f996f5c8-ee50-4c1b-a810-0dea8fe43cac",
   "metadata": {},
   "outputs": [
    {
     "name": "stdout",
     "output_type": "stream",
     "text": [
      "MSE: 0.11496540942307752, R²: 0.8033442628024094\n"
     ]
    }
   ],
   "source": [
    "y_g_pred = best_model.predict(X_test_scaled)\n",
    "grid_mse = mean_squared_error(y_test, y_g_pred)\n",
    "grid_r2 = r2_score(y_test, y_g_pred)\n",
    "print(f\"MSE: {grid_mse}, R²: {grid_r2}\")"
   ]
  },
  {
   "cell_type": "code",
   "execution_count": 17,
   "id": "7d3209bd-ea1e-4fff-a725-0f41fa1f9145",
   "metadata": {},
   "outputs": [
    {
     "data": {
      "image/png": "[encoded data removed]",
      "text/plain": [
       "<Figure size 640x480 with 1 Axes>"
      ]
     },
     "metadata": {},
     "output_type": "display_data"
    }
   ],
   "source": [
    "# checking the residual for the random forest model\n",
    "import matplotlib.pyplot as plt\n",
    "residuals = y_test - y_rf_pred\n",
    "plt.scatter(y_rf_pred, residuals)\n",
    "plt.axhline(0, color='red', linestyle='--')\n",
    "plt.xlabel('Predicted Values')\n",
    "plt.ylabel('Residuals')\n",
    "plt.title('Residual Plot')\n",
    "plt.show()"
   ]
  },
  {
   "cell_type": "markdown",
   "id": "1a0a8dbe-c490-41e1-8094-062f7f903952",
   "metadata": {},
   "source": [
    "## Deployment of the Model"
   ]
  },
  {
   "cell_type": "code",
   "execution_count": 18,
   "id": "3ce815e7-0c23-4da2-a36c-fe49d1f10c69",
   "metadata": {},
   "outputs": [],
   "source": [
    "# Pickling the model\n",
    "import pickle\n",
    "with open('yield_model.pkl', 'wb') as file:\n",
    "    pickle.dump(rf_model, file)"
   ]
  },
  {
   "cell_type": "code",
   "execution_count": 20,
   "id": "26882e79-b585-4d0f-85c2-e3935a4485c0",
   "metadata": {},
   "outputs": [
    {
     "ename": "EOFError",
     "evalue": "Ran out of input",
     "output_type": "error",
     "traceback": [
      "\u001b[1;31m---------------------------------------------------------------------------\u001b[0m",
      "\u001b[1;31mEOFError\u001b[0m                                  Traceback (most recent call last)",
      "Cell \u001b[1;32mIn[20], line 1\u001b[0m\n\u001b[1;32m----> 1\u001b[0m pickled_model \u001b[38;5;241m=\u001b[39m pickle\u001b[38;5;241m.\u001b[39mload(\u001b[38;5;28mopen\u001b[39m(\u001b[38;5;124m'\u001b[39m\u001b[38;5;124myield_model.pkl\u001b[39m\u001b[38;5;124m'\u001b[39m, \u001b[38;5;124m'\u001b[39m\u001b[38;5;124mrb\u001b[39m\u001b[38;5;124m'\u001b[39m))\n",
      "\u001b[1;31mEOFError\u001b[0m: Ran out of input"
     ]
    }
   ],
   "source": [
    "pickled_model = pickle.load(open('yield_model.pkl', 'rb'))"
   ]
  },
  {
   "cell_type": "code",
   "execution_count": null,
   "id": "ceba2c36-272e-497f-9f63-e88862866dbe",
   "metadata": {},
   "outputs": [],
   "source": []
  }
 ],
 "metadata": {
  "kernelspec": {
   "display_name": "Python 3 (ipykernel)",
   "language": "python",
   "name": "python3"
  },
  "language_info": {
   "codemirror_mode": {
    "name": "ipython",
    "version": 3
   },
   "file_extension": ".py",
   "mimetype": "text/x-python",
   "name": "python",
   "nbconvert_exporter": "python",
   "pygments_lexer": "ipython3",
   "version": "3.11.7"
  }
 },
 "nbformat": 4,
 "nbformat_minor": 5
}
